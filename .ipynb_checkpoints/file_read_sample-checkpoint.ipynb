{
 "cells": [
  {
   "cell_type": "code",
   "execution_count": 10,
   "metadata": {},
   "outputs": [],
   "source": [
    "f = open(\"./sample.txt\",\"r\",encoding=\"utf8\")"
   ]
  },
  {
   "cell_type": "code",
   "execution_count": 4,
   "metadata": {},
   "outputs": [
    {
     "name": "stdout",
     "output_type": "stream",
     "text": [
      "<_io.TextIOWrapper name='./sample.txt' mode='r' encoding='utf8'>\n"
     ]
    }
   ],
   "source": [
    "print(f)"
   ]
  },
  {
   "cell_type": "code",
   "execution_count": null,
   "metadata": {},
   "outputs": [],
   "source": []
  },
  {
   "cell_type": "markdown",
   "metadata": {},
   "source": [
    "openすることによって、ファイルの場所とか、エンコーディングを取得する。\n",
    "あくまで、ファイル自体を取得しているので、中身はまだ見れない\n",
    "\n",
    "openの引数はこんな感じ\n",
    "\n",
    "**open(ファイルの場所、モード、(エンコーディング))**\n",
    "\n",
    "モードは\n",
    "\n",
    "+ \"r\" 読み込み専用\n",
    "+ \"w\" 書き込み。もしすでにファイルが存在したら消去しちゃうので注意。\n",
    "+ \"a\" 追記。すでに存在するファイルの最終行に追加して書き込む時用。\n",
    "\n",
    "エンコーディングはutf8とかshift_jisとか。\n",
    "**x086 is not Unicode objectとかなんとかそんなエラーが出たとか、文字化けした時にはここを見直すべし。**\n",
    "mac系ならutf8,windows系ならshift_jisが多いかもしれない。"
   ]
  },
  {
   "cell_type": "code",
   "execution_count": 5,
   "metadata": {},
   "outputs": [],
   "source": [
    "txt = f.read()"
   ]
  },
  {
   "cell_type": "code",
   "execution_count": 6,
   "metadata": {},
   "outputs": [
    {
     "name": "stdout",
     "output_type": "stream",
     "text": [
      "これがヘッダーでございます。\n",
      "1 2 3 4 5\n",
      "100 200 300\n"
     ]
    }
   ],
   "source": [
    "print(txt)"
   ]
  },
  {
   "cell_type": "code",
   "execution_count": null,
   "metadata": {},
   "outputs": [],
   "source": []
  },
  {
   "cell_type": "markdown",
   "metadata": {},
   "source": [
    ".read()でテキストを全て読み込むことができる。  \n",
    "ただファイルが死ぬほどでかいとかだとメモリが足りなくなって死ぬことがある。\n",
    "\n",
    "そんなときは.readline()で1行ずつ読める"
   ]
  },
  {
   "cell_type": "code",
   "execution_count": 11,
   "metadata": {},
   "outputs": [
    {
     "name": "stdout",
     "output_type": "stream",
     "text": [
      "これがヘッダーでございます。\n",
      "\n",
      "1 2 3 4 5\n",
      "\n",
      "100 200 300\n"
     ]
    }
   ],
   "source": [
    "f = open(\"./sample.txt\",\"r\",encoding=\"utf8\")\n",
    "txt = f.readline()\n",
    "while txt:\n",
    "    print(txt)\n",
    "    txt = f.readline()"
   ]
  },
  {
   "cell_type": "code",
   "execution_count": null,
   "metadata": {},
   "outputs": [],
   "source": []
  },
  {
   "cell_type": "markdown",
   "metadata": {},
   "source": [
    "見ての通りwhileとか入るので、ファイルが小さいときは次の方が楽かも"
   ]
  },
  {
   "cell_type": "code",
   "execution_count": 12,
   "metadata": {},
   "outputs": [],
   "source": [
    "f = open(\"./sample.txt\",\"r\",encoding=\"utf8\")\n",
    "hoge = f.read()\n",
    "txts = hoge.split(\"\\n\")"
   ]
  },
  {
   "cell_type": "code",
   "execution_count": 14,
   "metadata": {},
   "outputs": [
    {
     "name": "stdout",
     "output_type": "stream",
     "text": [
      "['これがヘッダーでございます。', '1 2 3 4 5', '100 200 300']\n"
     ]
    }
   ],
   "source": [
    "print(txts)"
   ]
  },
  {
   "cell_type": "code",
   "execution_count": null,
   "metadata": {},
   "outputs": [],
   "source": []
  },
  {
   "cell_type": "markdown",
   "metadata": {},
   "source": [
    "split関数は、文字列を与えた引数の文字で分割してリストにして返してくれる。  \n",
    "今回だと\\nは開業を表すので、1行ずつ取得できた。  \n",
    "ちなみに引数を与えないと、空白とかで分割するので、"
   ]
  },
  {
   "cell_type": "code",
   "execution_count": 15,
   "metadata": {},
   "outputs": [
    {
     "name": "stdout",
     "output_type": "stream",
     "text": [
      "1 2 3 4 5\n",
      "['1', '2', '3', '4', '5']\n"
     ]
    }
   ],
   "source": [
    "print(txts[1])\n",
    "\n",
    "nums = txts[1].split()\n",
    "\n",
    "print(nums)"
   ]
  },
  {
   "cell_type": "markdown",
   "metadata": {},
   "source": [
    "と、このように分割してくれる。  \n",
    "ただ、このままだと文字が帰ってきちゃうので、数字として扱いたい場合にはmap関数を使う。"
   ]
  },
  {
   "cell_type": "code",
   "execution_count": 17,
   "metadata": {},
   "outputs": [
    {
     "name": "stdout",
     "output_type": "stream",
     "text": [
      "[1, 2, 3, 4, 5]\n"
     ]
    }
   ],
   "source": [
    "nums = list(map(int,txts[1].split()))\n",
    "print(nums)"
   ]
  },
  {
   "cell_type": "markdown",
   "metadata": {},
   "source": [
    "map関数は\n",
    "\n",
    "map(適用する関数オブジェクト、リストなど)\n",
    "\n",
    "をすると、あるリスト全てに関数を適用してイテレータとして返してくれる。  \n",
    "あくまで帰ってくるのはイテレータなのでlist()とかで囲ってリスト化してあげた方が使いやすいかもしれない  \n",
    "\n",
    "まぁ、難しいので\n",
    "list(map(int,適用したいリスト))\n",
    "\n",
    "で数字にできるくらいの認識でもいいと思う\n",
    "以上をまとめると、"
   ]
  },
  {
   "cell_type": "code",
   "execution_count": 20,
   "metadata": {},
   "outputs": [],
   "source": [
    "def read_with_header(f):\n",
    "    body = f.read().split(\"\\n\") #全部読み込んで、改行で分割\n",
    "    header = body[0] #１行目をヘッダーとして保存\n",
    "    coordinates = [] #座標とかを格納する用\n",
    "    for i in range(1,len(body)): #１つ目はヘッダーなので1から\n",
    "        hoge = list(map(int,body[i].split())) #数字行を空白で分割、[\"1\",\"2\"]みたいなリストにする。それにmap関数でint化\n",
    "        coordinates.append(hoge) #数字の配列をappend\n",
    "    return header,coordinates # ヘッダーと配列を返す。\n",
    "\n",
    "    "
   ]
  },
  {
   "cell_type": "markdown",
   "metadata": {},
   "source": [
    "みたいな関数を作ると、"
   ]
  },
  {
   "cell_type": "code",
   "execution_count": 21,
   "metadata": {},
   "outputs": [
    {
     "name": "stdout",
     "output_type": "stream",
     "text": [
      "これがヘッダーでございます。\n",
      "[[1, 2, 3, 4, 5], [100, 200, 300]]\n"
     ]
    }
   ],
   "source": [
    "f = open(\"./sample.txt\",\"r\",encoding=\"utf8\")\n",
    "header,coordinates = read_with_header(f)\n",
    "print(header)\n",
    "print(coordinates)"
   ]
  },
  {
   "cell_type": "markdown",
   "metadata": {},
   "source": [
    "こちらが多分ご要望のものです。"
   ]
  },
  {
   "cell_type": "code",
   "execution_count": 22,
   "metadata": {},
   "outputs": [],
   "source": [
    "import pandas as pd"
   ]
  },
  {
   "cell_type": "markdown",
   "metadata": {},
   "source": [
    "元素データはなんかポール・ニューマンとか言う人のウェブサイトから拾ってきた\n",
    "https://chemistry.stackexchange.com/questions/2793/where-can-i-find-a-downloadable-spreadsheet-of-element-properties"
   ]
  },
  {
   "cell_type": "code",
   "execution_count": 24,
   "metadata": {},
   "outputs": [],
   "source": [
    "e_data = pd.read_csv(\"element_data.csv\")"
   ]
  },
  {
   "cell_type": "markdown",
   "metadata": {},
   "source": [
    "pandasは神なので一行でcsvを読んでいい感じにしてくれる。"
   ]
  },
  {
   "cell_type": "code",
   "execution_count": 27,
   "metadata": {},
   "outputs": [
    {
     "data": {
      "text/html": [
       "<div>\n",
       "<style scoped>\n",
       "    .dataframe tbody tr th:only-of-type {\n",
       "        vertical-align: middle;\n",
       "    }\n",
       "\n",
       "    .dataframe tbody tr th {\n",
       "        vertical-align: top;\n",
       "    }\n",
       "\n",
       "    .dataframe thead th {\n",
       "        text-align: right;\n",
       "    }\n",
       "</style>\n",
       "<table border=\"1\" class=\"dataframe\">\n",
       "  <thead>\n",
       "    <tr style=\"text-align: right;\">\n",
       "      <th></th>\n",
       "      <th>Name</th>\n",
       "      <th>Symbol</th>\n",
       "      <th>Atomic_Number</th>\n",
       "      <th>Atomic_Weight</th>\n",
       "      <th>Density</th>\n",
       "      <th>Melting_Point</th>\n",
       "      <th>Boiling_Point</th>\n",
       "      <th>Atomic_Radius</th>\n",
       "      <th>Covalent_Radius</th>\n",
       "      <th>Ionic_Radius</th>\n",
       "      <th>...</th>\n",
       "      <th>Specific_Heat</th>\n",
       "      <th>Heat_Fusion</th>\n",
       "      <th>Heat_Evaporation</th>\n",
       "      <th>Thermal_Conductivity</th>\n",
       "      <th>Pauling_Electronegativity</th>\n",
       "      <th>First_Ionisation_Energy</th>\n",
       "      <th>Oxidation_States</th>\n",
       "      <th>Electronic_Configuration</th>\n",
       "      <th>Lattice</th>\n",
       "      <th>Lattice_Constant</th>\n",
       "    </tr>\n",
       "  </thead>\n",
       "  <tbody>\n",
       "    <tr>\n",
       "      <th>0</th>\n",
       "      <td>Hydrogen</td>\n",
       "      <td>H</td>\n",
       "      <td>1</td>\n",
       "      <td>1.00794</td>\n",
       "      <td>0.0708 (@ -253degC)</td>\n",
       "      <td>14.01</td>\n",
       "      <td>20.28</td>\n",
       "      <td>79</td>\n",
       "      <td>32</td>\n",
       "      <td></td>\n",
       "      <td>...</td>\n",
       "      <td>14.267 (H-H)</td>\n",
       "      <td>0.117 (H-H)</td>\n",
       "      <td>0.904 (H-H)</td>\n",
       "      <td>0.1815</td>\n",
       "      <td>2.2</td>\n",
       "      <td>1311.3</td>\n",
       "      <td>1 -1</td>\n",
       "      <td>1s¹</td>\n",
       "      <td>HEX</td>\n",
       "      <td>3.75</td>\n",
       "    </tr>\n",
       "    <tr>\n",
       "      <th>1</th>\n",
       "      <td>Helium</td>\n",
       "      <td>He</td>\n",
       "      <td>2</td>\n",
       "      <td>4.002602</td>\n",
       "      <td>0.147 (@ -270degC)</td>\n",
       "      <td>0.95</td>\n",
       "      <td>4.216</td>\n",
       "      <td>0</td>\n",
       "      <td>-</td>\n",
       "      <td></td>\n",
       "      <td>...</td>\n",
       "      <td>5.188</td>\n",
       "      <td>-</td>\n",
       "      <td>0.08</td>\n",
       "      <td>0.152</td>\n",
       "      <td>-</td>\n",
       "      <td>2361.3</td>\n",
       "      <td>-</td>\n",
       "      <td>1s²</td>\n",
       "      <td>HEX</td>\n",
       "      <td>3.57</td>\n",
       "    </tr>\n",
       "    <tr>\n",
       "      <th>2</th>\n",
       "      <td>Lithium</td>\n",
       "      <td>Li</td>\n",
       "      <td>3</td>\n",
       "      <td>6.941</td>\n",
       "      <td>0.534</td>\n",
       "      <td>553.69</td>\n",
       "      <td>1118.15</td>\n",
       "      <td>155</td>\n",
       "      <td>163</td>\n",
       "      <td></td>\n",
       "      <td>...</td>\n",
       "      <td>3.489</td>\n",
       "      <td>2.89</td>\n",
       "      <td>148</td>\n",
       "      <td>84.8</td>\n",
       "      <td>0.98</td>\n",
       "      <td>519.9</td>\n",
       "      <td>1</td>\n",
       "      <td>[He]2s¹</td>\n",
       "      <td>BCC</td>\n",
       "      <td>3.49</td>\n",
       "    </tr>\n",
       "    <tr>\n",
       "      <th>3</th>\n",
       "      <td>Beryllium</td>\n",
       "      <td>Be</td>\n",
       "      <td>4</td>\n",
       "      <td>9.01218</td>\n",
       "      <td>1.848</td>\n",
       "      <td>1551</td>\n",
       "      <td>3243</td>\n",
       "      <td>112</td>\n",
       "      <td>90</td>\n",
       "      <td></td>\n",
       "      <td>...</td>\n",
       "      <td>1.824</td>\n",
       "      <td>12.21</td>\n",
       "      <td>309</td>\n",
       "      <td>201</td>\n",
       "      <td>1.57</td>\n",
       "      <td>898.8</td>\n",
       "      <td>2</td>\n",
       "      <td>[He]2s²</td>\n",
       "      <td>HEX</td>\n",
       "      <td>2.29</td>\n",
       "    </tr>\n",
       "    <tr>\n",
       "      <th>4</th>\n",
       "      <td>Boron</td>\n",
       "      <td>B</td>\n",
       "      <td>5</td>\n",
       "      <td>10.811</td>\n",
       "      <td>2.34</td>\n",
       "      <td>2573</td>\n",
       "      <td>3931</td>\n",
       "      <td>98</td>\n",
       "      <td>82</td>\n",
       "      <td></td>\n",
       "      <td>...</td>\n",
       "      <td>1.025</td>\n",
       "      <td>23.6</td>\n",
       "      <td>504.5</td>\n",
       "      <td>27.4</td>\n",
       "      <td>2.04</td>\n",
       "      <td>800.2</td>\n",
       "      <td>3</td>\n",
       "      <td>[He]2s²2p¹</td>\n",
       "      <td>TET</td>\n",
       "      <td>8.73</td>\n",
       "    </tr>\n",
       "  </tbody>\n",
       "</table>\n",
       "<p>5 rows × 21 columns</p>\n",
       "</div>"
      ],
      "text/plain": [
       "        Name  Symbol   Atomic_Number  Atomic_Weight               Density  \\\n",
       "0   Hydrogen       H               1        1.00794   0.0708 (@ -253degC)   \n",
       "1     Helium      He               2       4.002602    0.147 (@ -270degC)   \n",
       "2    Lithium      Li               3          6.941                 0.534   \n",
       "3  Beryllium      Be               4        9.01218                 1.848   \n",
       "4      Boron       B               5         10.811                  2.34   \n",
       "\n",
       "   Melting_Point  Boiling_Point  Atomic_Radius  Covalent_Radius  Ionic_Radius  \\\n",
       "0          14.01          20.28             79               32                 \n",
       "1           0.95          4.216              0                -                 \n",
       "2         553.69        1118.15            155              163                 \n",
       "3           1551           3243            112               90                 \n",
       "4           2573           3931             98               82                 \n",
       "\n",
       "   ...  Specific_Heat   Heat_Fusion  Heat_Evaporation  Thermal_Conductivity  \\\n",
       "0  ...   14.267 (H-H)   0.117 (H-H)       0.904 (H-H)                0.1815   \n",
       "1  ...          5.188             -              0.08                 0.152   \n",
       "2  ...          3.489          2.89               148                  84.8   \n",
       "3  ...          1.824         12.21               309                   201   \n",
       "4  ...          1.025          23.6             504.5                  27.4   \n",
       "\n",
       "   Pauling_Electronegativity  First_Ionisation_Energy  Oxidation_States  \\\n",
       "0                        2.2                   1311.3              1 -1   \n",
       "1                          -                   2361.3                 -   \n",
       "2                       0.98                    519.9                 1   \n",
       "3                       1.57                    898.8                 2   \n",
       "4                       2.04                    800.2                 3   \n",
       "\n",
       "   Electronic_Configuration  Lattice  Lattice_Constant  \n",
       "0                       1s¹      HEX              3.75  \n",
       "1                       1s²      HEX              3.57  \n",
       "2                   [He]2s¹      BCC              3.49  \n",
       "3                   [He]2s²      HEX              2.29  \n",
       "4                [He]2s²2p¹      TET              8.73  \n",
       "\n",
       "[5 rows x 21 columns]"
      ]
     },
     "execution_count": 27,
     "metadata": {},
     "output_type": "execute_result"
    }
   ],
   "source": [
    "e_data.head()"
   ]
  },
  {
   "cell_type": "code",
   "execution_count": 30,
   "metadata": {},
   "outputs": [
    {
     "data": {
      "text/plain": [
       "Index(['Name', ' Symbol', ' Atomic_Number', ' Atomic_Weight', ' Density',\n",
       "       ' Melting_Point', ' Boiling_Point', ' Atomic_Radius',\n",
       "       ' Covalent_Radius', ' Ionic_Radius', ' Specific_Volume',\n",
       "       ' Specific_Heat', ' Heat_Fusion', ' Heat_Evaporation',\n",
       "       ' Thermal_Conductivity', ' Pauling_Electronegativity',\n",
       "       ' First_Ionisation_Energy', ' Oxidation_States',\n",
       "       ' Electronic_Configuration', ' Lattice', ' Lattice_Constant'],\n",
       "      dtype='object')"
      ]
     },
     "execution_count": 30,
     "metadata": {},
     "output_type": "execute_result"
    }
   ],
   "source": [
    "e_data.columns"
   ]
  },
  {
   "cell_type": "code",
   "execution_count": 32,
   "metadata": {},
   "outputs": [],
   "source": [
    "name_weight_dict = {}\n",
    "hoge = e_data[[\" Symbol\",\" Atomic_Weight\"]].values"
   ]
  },
  {
   "cell_type": "code",
   "execution_count": 35,
   "metadata": {},
   "outputs": [
    {
     "ename": "ValueError",
     "evalue": "could not convert string to float: ' [261]'",
     "output_type": "error",
     "traceback": [
      "\u001b[0;31m---------------------------------------------------------------------------\u001b[0m",
      "\u001b[0;31mValueError\u001b[0m                                Traceback (most recent call last)",
      "\u001b[0;32m<ipython-input-35-3e2fb91c59d5>\u001b[0m in \u001b[0;36m<module>\u001b[0;34m\u001b[0m\n\u001b[1;32m      1\u001b[0m \u001b[0;32mfor\u001b[0m \u001b[0mi\u001b[0m \u001b[0;32min\u001b[0m \u001b[0mrange\u001b[0m\u001b[0;34m(\u001b[0m\u001b[0mlen\u001b[0m\u001b[0;34m(\u001b[0m\u001b[0mhoge\u001b[0m\u001b[0;34m)\u001b[0m\u001b[0;34m)\u001b[0m\u001b[0;34m:\u001b[0m\u001b[0;34m\u001b[0m\u001b[0;34m\u001b[0m\u001b[0m\n\u001b[0;32m----> 2\u001b[0;31m     \u001b[0mname_weight_dict\u001b[0m\u001b[0;34m[\u001b[0m\u001b[0mhoge\u001b[0m\u001b[0;34m[\u001b[0m\u001b[0mi\u001b[0m\u001b[0;34m]\u001b[0m\u001b[0;34m[\u001b[0m\u001b[0;36m0\u001b[0m\u001b[0;34m]\u001b[0m\u001b[0;34m]\u001b[0m \u001b[0;34m=\u001b[0m \u001b[0mfloat\u001b[0m\u001b[0;34m(\u001b[0m\u001b[0mhoge\u001b[0m\u001b[0;34m[\u001b[0m\u001b[0mi\u001b[0m\u001b[0;34m]\u001b[0m\u001b[0;34m[\u001b[0m\u001b[0;36m1\u001b[0m\u001b[0;34m]\u001b[0m\u001b[0;34m)\u001b[0m\u001b[0;34m\u001b[0m\u001b[0;34m\u001b[0m\u001b[0m\n\u001b[0m",
      "\u001b[0;31mValueError\u001b[0m: could not convert string to float: ' [261]'"
     ]
    }
   ],
   "source": [
    "for i in range(len(hoge)):\n",
    "    name_weight_dict[hoge[i][0]] = float(hoge[i][1])"
   ]
  },
  {
   "cell_type": "code",
   "execution_count": null,
   "metadata": {},
   "outputs": [],
   "source": []
  }
 ],
 "metadata": {
  "kernelspec": {
   "display_name": "Python 3",
   "language": "python",
   "name": "python3"
  },
  "language_info": {
   "codemirror_mode": {
    "name": "ipython",
    "version": 3
   },
   "file_extension": ".py",
   "mimetype": "text/x-python",
   "name": "python",
   "nbconvert_exporter": "python",
   "pygments_lexer": "ipython3",
   "version": "3.7.4"
  }
 },
 "nbformat": 4,
 "nbformat_minor": 4
}
