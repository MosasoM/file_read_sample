{
 "cells": [
  {
   "cell_type": "code",
   "execution_count": 10,
   "metadata": {},
   "outputs": [],
   "source": [
    "f = open(\"./sample.txt\",\"r\",encoding=\"utf8\")"
   ]
  },
  {
   "cell_type": "code",
   "execution_count": 4,
   "metadata": {},
   "outputs": [
    {
     "name": "stdout",
     "output_type": "stream",
     "text": [
      "<_io.TextIOWrapper name='./sample.txt' mode='r' encoding='utf8'>\n"
     ]
    }
   ],
   "source": [
    "print(f)"
   ]
  },
  {
   "cell_type": "code",
   "execution_count": null,
   "metadata": {},
   "outputs": [],
   "source": []
  },
  {
   "cell_type": "markdown",
   "metadata": {},
   "source": [
    "openすることによって、ファイルの場所とか、エンコーディングを取得する。\n",
    "あくまで、ファイル自体を取得しているので、中身はまだ見れない\n",
    "\n",
    "openの引数はこんな感じ\n",
    "\n",
    "**open(ファイルの場所、モード、(エンコーディング))**\n",
    "\n",
    "モードは\n",
    "\n",
    "+ \"r\" 読み込み専用\n",
    "+ \"w\" 書き込み。もしすでにファイルが存在したら消去しちゃうので注意。\n",
    "+ \"a\" 追記。すでに存在するファイルの最終行に追加して書き込む時用。\n",
    "\n",
    "エンコーディングはutf8とかshift_jisとか。\n",
    "**x086 is not Unicode objectとかなんとかそんなエラーが出たとか、文字化けした時にはここを見直すべし。**\n",
    "mac系ならutf8,windows系ならshift_jisが多いかもしれない。"
   ]
  },
  {
   "cell_type": "code",
   "execution_count": 5,
   "metadata": {},
   "outputs": [],
   "source": [
    "txt = f.read()"
   ]
  },
  {
   "cell_type": "code",
   "execution_count": 6,
   "metadata": {},
   "outputs": [
    {
     "name": "stdout",
     "output_type": "stream",
     "text": [
      "これがヘッダーでございます。\n",
      "1 2 3 4 5\n",
      "100 200 300\n"
     ]
    }
   ],
   "source": [
    "print(txt)"
   ]
  },
  {
   "cell_type": "code",
   "execution_count": null,
   "metadata": {},
   "outputs": [],
   "source": []
  },
  {
   "cell_type": "markdown",
   "metadata": {},
   "source": [
    ".read()でテキストを全て読み込むことができる。  \n",
    "ただファイルが死ぬほどでかいとかだとメモリが足りなくなって死ぬことがある。\n",
    "\n",
    "そんなときは.readline()で1行ずつ読める"
   ]
  },
  {
   "cell_type": "code",
   "execution_count": 11,
   "metadata": {},
   "outputs": [
    {
     "name": "stdout",
     "output_type": "stream",
     "text": [
      "これがヘッダーでございます。\n",
      "\n",
      "1 2 3 4 5\n",
      "\n",
      "100 200 300\n"
     ]
    }
   ],
   "source": [
    "f = open(\"./sample.txt\",\"r\",encoding=\"utf8\")\n",
    "txt = f.readline()\n",
    "while txt:\n",
    "    print(txt)\n",
    "    txt = f.readline()"
   ]
  },
  {
   "cell_type": "code",
   "execution_count": null,
   "metadata": {},
   "outputs": [],
   "source": []
  },
  {
   "cell_type": "markdown",
   "metadata": {},
   "source": [
    "見ての通りwhileとか入るので、ファイルが小さいときは次の方が楽かも"
   ]
  },
  {
   "cell_type": "code",
   "execution_count": 12,
   "metadata": {},
   "outputs": [],
   "source": [
    "f = open(\"./sample.txt\",\"r\",encoding=\"utf8\")\n",
    "hoge = f.read()\n",
    "txts = hoge.split(\"\\n\")"
   ]
  },
  {
   "cell_type": "code",
   "execution_count": 14,
   "metadata": {},
   "outputs": [
    {
     "name": "stdout",
     "output_type": "stream",
     "text": [
      "['これがヘッダーでございます。', '1 2 3 4 5', '100 200 300']\n"
     ]
    }
   ],
   "source": [
    "print(txts)"
   ]
  },
  {
   "cell_type": "code",
   "execution_count": null,
   "metadata": {},
   "outputs": [],
   "source": []
  },
  {
   "cell_type": "markdown",
   "metadata": {},
   "source": [
    "split関数は、文字列を与えた引数の文字で分割してリストにして返してくれる。  \n",
    "今回だと\\nは開業を表すので、1行ずつ取得できた。  \n",
    "ちなみに引数を与えないと、空白とかで分割するので、"
   ]
  },
  {
   "cell_type": "code",
   "execution_count": 15,
   "metadata": {},
   "outputs": [
    {
     "name": "stdout",
     "output_type": "stream",
     "text": [
      "1 2 3 4 5\n",
      "['1', '2', '3', '4', '5']\n"
     ]
    }
   ],
   "source": [
    "print(txts[1])\n",
    "\n",
    "nums = txts[1].split()\n",
    "\n",
    "print(nums)"
   ]
  },
  {
   "cell_type": "markdown",
   "metadata": {},
   "source": [
    "と、このように分割してくれる。  \n",
    "ただ、このままだと文字が帰ってきちゃうので、数字として扱いたい場合にはmap関数を使う。"
   ]
  },
  {
   "cell_type": "code",
   "execution_count": 17,
   "metadata": {},
   "outputs": [
    {
     "name": "stdout",
     "output_type": "stream",
     "text": [
      "[1, 2, 3, 4, 5]\n"
     ]
    }
   ],
   "source": [
    "nums = list(map(int,txts[1].split()))\n",
    "print(nums)"
   ]
  },
  {
   "cell_type": "markdown",
   "metadata": {},
   "source": [
    "map関数は\n",
    "\n",
    "map(適用する関数オブジェクト、リストなど)\n",
    "\n",
    "をすると、あるリスト全てに関数を適用してイテレータとして返してくれる。  \n",
    "あくまで帰ってくるのはイテレータなのでlist()とかで囲ってリスト化してあげた方が使いやすいかもしれない  \n",
    "\n",
    "まぁ、難しいので\n",
    "list(map(int,適用したいリスト))\n",
    "\n",
    "で数字にできるくらいの認識でもいいと思う\n",
    "以上をまとめると、"
   ]
  },
  {
   "cell_type": "code",
   "execution_count": 20,
   "metadata": {},
   "outputs": [],
   "source": [
    "def read_with_header(f):\n",
    "    body = f.read().split(\"\\n\") #全部読み込んで、改行で分割\n",
    "    header = body[0] #１行目をヘッダーとして保存\n",
    "    coordinates = [] #座標とかを格納する用\n",
    "    for i in range(1,len(body)): #１つ目はヘッダーなので1から\n",
    "        hoge = list(map(int,body[i].split())) #数字行を空白で分割、[\"1\",\"2\"]みたいなリストにする。それにmap関数でint化\n",
    "        coordinates.append(hoge) #数字の配列をappend\n",
    "    return header,coordinates # ヘッダーと配列を返す。\n",
    "\n",
    "    "
   ]
  },
  {
   "cell_type": "markdown",
   "metadata": {},
   "source": [
    "みたいな関数を作ると、"
   ]
  },
  {
   "cell_type": "code",
   "execution_count": 21,
   "metadata": {},
   "outputs": [
    {
     "name": "stdout",
     "output_type": "stream",
     "text": [
      "これがヘッダーでございます。\n",
      "[[1, 2, 3, 4, 5], [100, 200, 300]]\n"
     ]
    }
   ],
   "source": [
    "f = open(\"./sample.txt\",\"r\",encoding=\"utf8\")\n",
    "header,coordinates = read_with_header(f)\n",
    "print(header)\n",
    "print(coordinates)"
   ]
  },
  {
   "cell_type": "markdown",
   "metadata": {},
   "source": [
    "こちらが多分ご要望のものです。"
   ]
  }
 ],
 "metadata": {
  "kernelspec": {
   "display_name": "Python 3",
   "language": "python",
   "name": "python3"
  },
  "language_info": {
   "codemirror_mode": {
    "name": "ipython",
    "version": 3
   },
   "file_extension": ".py",
   "mimetype": "text/x-python",
   "name": "python",
   "nbconvert_exporter": "python",
   "pygments_lexer": "ipython3",
   "version": "3.7.4"
  }
 },
 "nbformat": 4,
 "nbformat_minor": 4
}
